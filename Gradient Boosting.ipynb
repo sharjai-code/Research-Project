{
 "cells": [
  {
   "cell_type": "code",
   "execution_count": 292,
   "metadata": {
    "ExecuteTime": {
     "end_time": "2019-05-14T16:00:20.531969Z",
     "start_time": "2019-05-14T16:00:20.501725Z"
    }
   },
   "outputs": [],
   "source": [
    "import pandas as pd\n",
    "import numpy as np\n",
    "import matplotlib.pyplot as plt\n",
    "%matplotlib inline\n",
    "from sklearn.metrics import accuracy_score, confusion_matrix\n",
    "from sklearn.tree import DecisionTreeClassifier\n",
    "from sklearn.ensemble import AdaBoostClassifier,RandomForestClassifier\n",
    "pd.set_option('use_inf_as_na', True)\n",
    "from collections import Counter\n",
    "import lightgbm as lgb \n",
    "import pickle"
   ]
  },
  {
   "cell_type": "code",
   "execution_count": 293,
   "metadata": {
    "ExecuteTime": {
     "end_time": "2019-05-14T16:00:24.359234Z",
     "start_time": "2019-05-14T16:00:21.824203Z"
    }
   },
   "outputs": [
    {
     "name": "stderr",
     "output_type": "stream",
     "text": [
      "C:\\Users\\niels\\Anaconda3\\lib\\site-packages\\pandas\\core\\frame.py:3790: SettingWithCopyWarning: \n",
      "A value is trying to be set on a copy of a slice from a DataFrame\n",
      "\n",
      "See the caveats in the documentation: http://pandas.pydata.org/pandas-docs/stable/indexing.html#indexing-view-versus-copy\n",
      "  downcast=downcast, **kwargs)\n"
     ]
    }
   ],
   "source": [
    "raw_data = pd.read_pickle(r'C:\\Users\\niels\\data\\dataset.pkl')\n",
    "data = raw_data[raw_data['market_cap'] > 1000.0]\n",
    "data.fillna(0.0,inplace=True)"
   ]
  },
  {
   "cell_type": "code",
   "execution_count": 294,
   "metadata": {
    "ExecuteTime": {
     "end_time": "2019-05-14T16:00:25.317418Z",
     "start_time": "2019-05-14T16:00:25.307350Z"
    }
   },
   "outputs": [],
   "source": [
    "def f(x):\n",
    "\n",
    "    if x > 0.01:\n",
    "        return 1\n",
    "    elif x < -0.01:\n",
    "\n",
    "        return -1\n",
    "    \n",
    "\n",
    "    else:\n",
    "    \n",
    "        return 0"
   ]
  },
  {
   "cell_type": "code",
   "execution_count": 295,
   "metadata": {
    "ExecuteTime": {
     "end_time": "2019-05-14T16:00:27.916421Z",
     "start_time": "2019-05-14T16:00:27.572308Z"
    }
   },
   "outputs": [
    {
     "name": "stderr",
     "output_type": "stream",
     "text": [
      "C:\\Users\\niels\\Anaconda3\\lib\\site-packages\\ipykernel_launcher.py:1: SettingWithCopyWarning: \n",
      "A value is trying to be set on a copy of a slice from a DataFrame.\n",
      "Try using .loc[row_indexer,col_indexer] = value instead\n",
      "\n",
      "See the caveats in the documentation: http://pandas.pydata.org/pandas-docs/stable/indexing.html#indexing-view-versus-copy\n",
      "  \"\"\"Entry point for launching an IPython kernel.\n"
     ]
    }
   ],
   "source": [
    "data['rel_performance'] = data['pred_rel_return'].apply(f)\n",
    "data.reset_index(inplace=True,)\n",
    "data.set_index('date',inplace=True)"
   ]
  },
  {
   "cell_type": "code",
   "execution_count": 296,
   "metadata": {
    "ExecuteTime": {
     "end_time": "2019-05-14T16:00:29.113534Z",
     "start_time": "2019-05-14T16:00:29.065195Z"
    }
   },
   "outputs": [],
   "source": [
    "df_1 = data.loc['2008-01-01':'2011-01-01']\n",
    "df_2 = data.loc['2008-04-01':'2011-04-01']\n",
    "df_valid = data.loc['2011-04-01':'2011-07-01']\n",
    "df_test = data.loc['2011-07-01':'2011-10-01']"
   ]
  },
  {
   "cell_type": "code",
   "execution_count": 297,
   "metadata": {
    "ExecuteTime": {
     "end_time": "2019-05-14T16:00:30.843108Z",
     "start_time": "2019-05-14T16:00:30.653613Z"
    }
   },
   "outputs": [],
   "source": [
    "train_1 = df_1.reset_index().drop(['ticker','date',\n",
    "                                   'next_period_return',\n",
    "                                   'spy_next_period_return',\n",
    "                                   'rel_performance','pred_rel_return',\n",
    "                                  'return', 'cum_ret', 'spy_cum_ret'],axis=1)\n",
    "train_2 = df_2.reset_index().drop(['ticker','date',\n",
    "                                   'next_period_return',\n",
    "                                   'spy_next_period_return',\n",
    "                                   'rel_performance','pred_rel_return',\n",
    "                                  'return', 'cum_ret', 'spy_cum_ret'],axis=1)\n",
    "\n",
    "valid = df_valid.reset_index().drop(['ticker','date',\n",
    "                                   'next_period_return',\n",
    "                                   'spy_next_period_return',\n",
    "                                   'rel_performance','pred_rel_return',\n",
    "                                  'return', 'cum_ret', 'spy_cum_ret'],axis=1)\n",
    "test = df_test.reset_index().drop(['ticker','date',\n",
    "                                   'next_period_return',\n",
    "                                   'spy_next_period_return',\n",
    "                                   'rel_performance','pred_rel_return',\n",
    "                                  'return', 'cum_ret', 'spy_cum_ret'],axis=1)"
   ]
  },
  {
   "cell_type": "code",
   "execution_count": 298,
   "metadata": {
    "ExecuteTime": {
     "end_time": "2019-05-14T16:00:35.243193Z",
     "start_time": "2019-05-14T16:00:35.192838Z"
    }
   },
   "outputs": [],
   "source": [
    "train_1_stock_returns = df_1['next_period_return']\n",
    "valid_stock_returns = df_valid['next_period_return']\n",
    "train_2_stock_returns = df_2['next_period_return']\n",
    "test_stock_returns = df_test['next_period_return']\n",
    "\n",
    "y_1 = df_1['rel_performance']\n",
    "y_2 = df_2['rel_performance']\n",
    "y_valid = df_valid['rel_performance']\n",
    "y_test = df_test['rel_performance']\n",
    "\n",
    "y_1 = y_1.values\n",
    "y_2 = y_2.values\n",
    "y_valid = y_valid.values\n",
    "y_test = y_test.values"
   ]
  },
  {
   "cell_type": "code",
   "execution_count": 299,
   "metadata": {
    "ExecuteTime": {
     "end_time": "2019-05-14T16:00:36.541926Z",
     "start_time": "2019-05-14T16:00:36.513725Z"
    }
   },
   "outputs": [],
   "source": [
    "gb_clf = lgb.LGBMClassifier(max_depth=4,n_estimators=400,objective='multi_class',min_child_samples=2000,\n",
    "                            reg_lambda = 0.5,learning_rate=0.3,cegb_penalty_split=0.5,eval_set=(valid,y_valid))"
   ]
  },
  {
   "cell_type": "code",
   "execution_count": 300,
   "metadata": {
    "ExecuteTime": {
     "end_time": "2019-05-14T16:00:50.471642Z",
     "start_time": "2019-05-14T16:00:37.462711Z"
    }
   },
   "outputs": [
    {
     "data": {
      "text/plain": [
       "LGBMClassifier(boosting_type='gbdt', cegb_penalty_split=0.5,\n",
       "        class_weight=None, colsample_bytree=1.0,\n",
       "        eval_set=(           actq        apq        atq       ceqq       cheq      cogsq  \\\n",
       "0      4145.196    401.338  15590.631  12511.290   3261.153    938.446\n",
       "1      1569.712    200.179   3052.418   1096.242   1329.065    146.131\n",
       "2      1410.098    269.763   6839.909   2291.630    202.173   1967.7...0\n",
       "1545                  0\n",
       "\n",
       "[1546 rows x 725 columns], array([-1, -1, ...,  1, -1], dtype=int64)),\n",
       "        importance_type='split', learning_rate=0.3, max_depth=4,\n",
       "        min_child_samples=2000, min_child_weight=0.001, min_split_gain=0.0,\n",
       "        n_estimators=400, n_jobs=-1, num_leaves=31,\n",
       "        objective='multi_class', random_state=None, reg_alpha=0.0,\n",
       "        reg_lambda=0.5, silent=True, subsample=1.0,\n",
       "        subsample_for_bin=200000, subsample_freq=0)"
      ]
     },
     "execution_count": 300,
     "metadata": {},
     "output_type": "execute_result"
    }
   ],
   "source": [
    "gb_clf.fit(train_1,y_1)"
   ]
  },
  {
   "cell_type": "code",
   "execution_count": 301,
   "metadata": {
    "ExecuteTime": {
     "end_time": "2019-05-14T16:00:52.935025Z",
     "start_time": "2019-05-14T16:00:51.729526Z"
    }
   },
   "outputs": [
    {
     "data": {
      "text/plain": [
       "0.6999299050532084"
      ]
     },
     "execution_count": 301,
     "metadata": {},
     "output_type": "execute_result"
    }
   ],
   "source": [
    "gb_clf.score(train_1,y_1)"
   ]
  },
  {
   "cell_type": "code",
   "execution_count": 302,
   "metadata": {
    "ExecuteTime": {
     "end_time": "2019-05-14T16:00:55.500365Z",
     "start_time": "2019-05-14T16:00:55.137731Z"
    }
   },
   "outputs": [],
   "source": [
    "preds = gb_clf.predict(valid)"
   ]
  },
  {
   "cell_type": "code",
   "execution_count": 303,
   "metadata": {
    "ExecuteTime": {
     "end_time": "2019-05-14T16:00:56.657033Z",
     "start_time": "2019-05-14T16:00:56.269144Z"
    }
   },
   "outputs": [
    {
     "data": {
      "text/plain": [
       "0.48641655886157825"
      ]
     },
     "execution_count": 303,
     "metadata": {},
     "output_type": "execute_result"
    }
   ],
   "source": [
    "gb_clf.score(valid,y_valid)"
   ]
  },
  {
   "cell_type": "code",
   "execution_count": 304,
   "metadata": {
    "ExecuteTime": {
     "end_time": "2019-05-14T16:01:01.325462Z",
     "start_time": "2019-05-14T16:01:01.307339Z"
    }
   },
   "outputs": [
    {
     "data": {
      "text/plain": [
       "array([[269,   1, 528],\n",
       "       [ 50,   1,  71],\n",
       "       [144,   0, 482]], dtype=int64)"
      ]
     },
     "execution_count": 304,
     "metadata": {},
     "output_type": "execute_result"
    }
   ],
   "source": [
    "confusion_matrix(y_valid,preds)"
   ]
  },
  {
   "cell_type": "code",
   "execution_count": 305,
   "metadata": {
    "ExecuteTime": {
     "end_time": "2019-05-14T16:01:10.828837Z",
     "start_time": "2019-05-14T16:01:10.819862Z"
    }
   },
   "outputs": [],
   "source": [
    "def gboost_feat_importances(m, df):\n",
    "        \n",
    "    return pd.DataFrame({'cols':df.columns, 'feat_imp': m.feature_importances_}\n",
    "                       ).sort_values('feat_imp', ascending=False)\n",
    "\n",
    "def plot_fi(fi): return fi.plot('cols', 'feat_imp', 'barh', figsize=(12,7), legend=False)"
   ]
  },
  {
   "cell_type": "code",
   "execution_count": 306,
   "metadata": {
    "ExecuteTime": {
     "end_time": "2019-05-14T16:01:28.687342Z",
     "start_time": "2019-05-14T16:01:28.669223Z"
    }
   },
   "outputs": [],
   "source": [
    "fi = gboost_feat_importances(gb_clf,train_1)"
   ]
  },
  {
   "cell_type": "code",
   "execution_count": 321,
   "metadata": {
    "ExecuteTime": {
     "end_time": "2019-05-14T16:03:38.077257Z",
     "start_time": "2019-05-14T16:03:38.059141Z"
    }
   },
   "outputs": [],
   "source": [
    "features = fi[(fi['feat_imp'] > 40)]"
   ]
  },
  {
   "cell_type": "code",
   "execution_count": 322,
   "metadata": {
    "ExecuteTime": {
     "end_time": "2019-05-14T16:03:39.317414Z",
     "start_time": "2019-05-14T16:03:39.309359Z"
    }
   },
   "outputs": [
    {
     "data": {
      "text/plain": [
       "(43, 2)"
      ]
     },
     "execution_count": 322,
     "metadata": {},
     "output_type": "execute_result"
    }
   ],
   "source": [
    "features.shape"
   ]
  },
  {
   "cell_type": "code",
   "execution_count": 323,
   "metadata": {
    "ExecuteTime": {
     "end_time": "2019-05-14T16:03:42.032284Z",
     "start_time": "2019-05-14T16:03:41.070084Z"
    }
   },
   "outputs": [
    {
     "data": {
      "image/png": "[encoded data removed]",
      "text/plain": [
       "<Figure size 864x504 with 1 Axes>"
      ]
     },
     "metadata": {
      "needs_background": "light"
     },
     "output_type": "display_data"
    }
   ],
   "source": [
    "plot_fi(features);"
   ]
  },
  {
   "cell_type": "code",
   "execution_count": 324,
   "metadata": {
    "ExecuteTime": {
     "end_time": "2019-05-14T16:03:46.626188Z",
     "start_time": "2019-05-14T16:03:46.608235Z"
    }
   },
   "outputs": [
    {
     "data": {
      "text/html": [
       "<div>\n",
       "<style scoped>\n",
       "    .dataframe tbody tr th:only-of-type {\n",
       "        vertical-align: middle;\n",
       "    }\n",
       "\n",
       "    .dataframe tbody tr th {\n",
       "        vertical-align: top;\n",
       "    }\n",
       "\n",
       "    .dataframe thead th {\n",
       "        text-align: right;\n",
       "    }\n",
       "</style>\n",
       "<table border=\"1\" class=\"dataframe\">\n",
       "  <thead>\n",
       "    <tr style=\"text-align: right;\">\n",
       "      <th></th>\n",
       "      <th>cols</th>\n",
       "      <th>feat_imp</th>\n",
       "    </tr>\n",
       "  </thead>\n",
       "  <tbody>\n",
       "    <tr>\n",
       "      <th>95</th>\n",
       "      <td>evmq</td>\n",
       "      <td>95</td>\n",
       "    </tr>\n",
       "    <tr>\n",
       "      <th>105</th>\n",
       "      <td>cf_yield</td>\n",
       "      <td>91</td>\n",
       "    </tr>\n",
       "    <tr>\n",
       "      <th>36</th>\n",
       "      <td>nopiq</td>\n",
       "      <td>88</td>\n",
       "    </tr>\n",
       "    <tr>\n",
       "      <th>66</th>\n",
       "      <td>chechy</td>\n",
       "      <td>87</td>\n",
       "    </tr>\n",
       "    <tr>\n",
       "      <th>87</th>\n",
       "      <td>prccq</td>\n",
       "      <td>86</td>\n",
       "    </tr>\n",
       "    <tr>\n",
       "      <th>120</th>\n",
       "      <td>efftaxq</td>\n",
       "      <td>83</td>\n",
       "    </tr>\n",
       "    <tr>\n",
       "      <th>55</th>\n",
       "      <td>teqq</td>\n",
       "      <td>83</td>\n",
       "    </tr>\n",
       "    <tr>\n",
       "      <th>172</th>\n",
       "      <td>pay_turnq</td>\n",
       "      <td>74</td>\n",
       "    </tr>\n",
       "    <tr>\n",
       "      <th>171</th>\n",
       "      <td>rect_turnq</td>\n",
       "      <td>73</td>\n",
       "    </tr>\n",
       "    <tr>\n",
       "      <th>67</th>\n",
       "      <td>cogsy</td>\n",
       "      <td>70</td>\n",
       "    </tr>\n",
       "    <tr>\n",
       "      <th>116</th>\n",
       "      <td>cfmq</td>\n",
       "      <td>63</td>\n",
       "    </tr>\n",
       "    <tr>\n",
       "      <th>151</th>\n",
       "      <td>profit_lctq</td>\n",
       "      <td>60</td>\n",
       "    </tr>\n",
       "    <tr>\n",
       "      <th>92</th>\n",
       "      <td>market_cap</td>\n",
       "      <td>55</td>\n",
       "    </tr>\n",
       "    <tr>\n",
       "      <th>80</th>\n",
       "      <td>txpdy</td>\n",
       "      <td>53</td>\n",
       "    </tr>\n",
       "    <tr>\n",
       "      <th>70</th>\n",
       "      <td>dltry</td>\n",
       "      <td>53</td>\n",
       "    </tr>\n",
       "    <tr>\n",
       "      <th>154</th>\n",
       "      <td>fcf_ocfq</td>\n",
       "      <td>51</td>\n",
       "    </tr>\n",
       "    <tr>\n",
       "      <th>102</th>\n",
       "      <td>oancfy_q</td>\n",
       "      <td>51</td>\n",
       "    </tr>\n",
       "    <tr>\n",
       "      <th>4</th>\n",
       "      <td>cheq</td>\n",
       "      <td>51</td>\n",
       "    </tr>\n",
       "    <tr>\n",
       "      <th>12</th>\n",
       "      <td>cstkq</td>\n",
       "      <td>50</td>\n",
       "    </tr>\n",
       "    <tr>\n",
       "      <th>99</th>\n",
       "      <td>capeiq</td>\n",
       "      <td>50</td>\n",
       "    </tr>\n",
       "    <tr>\n",
       "      <th>142</th>\n",
       "      <td>int_totdebtq</td>\n",
       "      <td>50</td>\n",
       "    </tr>\n",
       "    <tr>\n",
       "      <th>71</th>\n",
       "      <td>dpcy</td>\n",
       "      <td>50</td>\n",
       "    </tr>\n",
       "    <tr>\n",
       "      <th>69</th>\n",
       "      <td>dltisy</td>\n",
       "      <td>49</td>\n",
       "    </tr>\n",
       "    <tr>\n",
       "      <th>157</th>\n",
       "      <td>cash_debtq</td>\n",
       "      <td>49</td>\n",
       "    </tr>\n",
       "    <tr>\n",
       "      <th>168</th>\n",
       "      <td>cash_conversionq</td>\n",
       "      <td>49</td>\n",
       "    </tr>\n",
       "    <tr>\n",
       "      <th>83</th>\n",
       "      <td>xinty</td>\n",
       "      <td>47</td>\n",
       "    </tr>\n",
       "    <tr>\n",
       "      <th>174</th>\n",
       "      <td>sale_equityq</td>\n",
       "      <td>47</td>\n",
       "    </tr>\n",
       "    <tr>\n",
       "      <th>73</th>\n",
       "      <td>ibcomy</td>\n",
       "      <td>47</td>\n",
       "    </tr>\n",
       "    <tr>\n",
       "      <th>113</th>\n",
       "      <td>ptpmq</td>\n",
       "      <td>47</td>\n",
       "    </tr>\n",
       "    <tr>\n",
       "      <th>155</th>\n",
       "      <td>fcf_csfhdq</td>\n",
       "      <td>46</td>\n",
       "    </tr>\n",
       "    <tr>\n",
       "      <th>77</th>\n",
       "      <td>oepsxy</td>\n",
       "      <td>46</td>\n",
       "    </tr>\n",
       "    <tr>\n",
       "      <th>76</th>\n",
       "      <td>oancfy</td>\n",
       "      <td>46</td>\n",
       "    </tr>\n",
       "    <tr>\n",
       "      <th>85</th>\n",
       "      <td>xsgay</td>\n",
       "      <td>46</td>\n",
       "    </tr>\n",
       "    <tr>\n",
       "      <th>156</th>\n",
       "      <td>fcf_yield</td>\n",
       "      <td>45</td>\n",
       "    </tr>\n",
       "    <tr>\n",
       "      <th>1</th>\n",
       "      <td>apq</td>\n",
       "      <td>44</td>\n",
       "    </tr>\n",
       "    <tr>\n",
       "      <th>112</th>\n",
       "      <td>gpmq</td>\n",
       "      <td>44</td>\n",
       "    </tr>\n",
       "    <tr>\n",
       "      <th>153</th>\n",
       "      <td>capxq</td>\n",
       "      <td>44</td>\n",
       "    </tr>\n",
       "    <tr>\n",
       "      <th>104</th>\n",
       "      <td>cfo-per-share</td>\n",
       "      <td>44</td>\n",
       "    </tr>\n",
       "    <tr>\n",
       "      <th>93</th>\n",
       "      <td>buy_back_yield</td>\n",
       "      <td>42</td>\n",
       "    </tr>\n",
       "    <tr>\n",
       "      <th>59</th>\n",
       "      <td>txtq</td>\n",
       "      <td>41</td>\n",
       "    </tr>\n",
       "    <tr>\n",
       "      <th>178</th>\n",
       "      <td>accrualq</td>\n",
       "      <td>41</td>\n",
       "    </tr>\n",
       "    <tr>\n",
       "      <th>162</th>\n",
       "      <td>de_ratioq</td>\n",
       "      <td>41</td>\n",
       "    </tr>\n",
       "    <tr>\n",
       "      <th>106</th>\n",
       "      <td>pcfq</td>\n",
       "      <td>41</td>\n",
       "    </tr>\n",
       "  </tbody>\n",
       "</table>\n",
       "</div>"
      ],
      "text/plain": [
       "                 cols  feat_imp\n",
       "95               evmq        95\n",
       "105          cf_yield        91\n",
       "36              nopiq        88\n",
       "66             chechy        87\n",
       "87              prccq        86\n",
       "120           efftaxq        83\n",
       "55               teqq        83\n",
       "172         pay_turnq        74\n",
       "171        rect_turnq        73\n",
       "67              cogsy        70\n",
       "116              cfmq        63\n",
       "151       profit_lctq        60\n",
       "92         market_cap        55\n",
       "80              txpdy        53\n",
       "70              dltry        53\n",
       "154          fcf_ocfq        51\n",
       "102          oancfy_q        51\n",
       "4                cheq        51\n",
       "12              cstkq        50\n",
       "99             capeiq        50\n",
       "142      int_totdebtq        50\n",
       "71               dpcy        50\n",
       "69             dltisy        49\n",
       "157        cash_debtq        49\n",
       "168  cash_conversionq        49\n",
       "83              xinty        47\n",
       "174      sale_equityq        47\n",
       "73             ibcomy        47\n",
       "113             ptpmq        47\n",
       "155        fcf_csfhdq        46\n",
       "77             oepsxy        46\n",
       "76             oancfy        46\n",
       "85              xsgay        46\n",
       "156         fcf_yield        45\n",
       "1                 apq        44\n",
       "112              gpmq        44\n",
       "153             capxq        44\n",
       "104     cfo-per-share        44\n",
       "93     buy_back_yield        42\n",
       "59               txtq        41\n",
       "178          accrualq        41\n",
       "162         de_ratioq        41\n",
       "106              pcfq        41"
      ]
     },
     "execution_count": 324,
     "metadata": {},
     "output_type": "execute_result"
    }
   ],
   "source": [
    "features"
   ]
  },
  {
   "cell_type": "code",
   "execution_count": 325,
   "metadata": {
    "ExecuteTime": {
     "end_time": "2019-05-14T16:04:09.345156Z",
     "start_time": "2019-05-14T16:04:09.326909Z"
    }
   },
   "outputs": [],
   "source": [
    "train_1 = train_1[features['cols'].values]\n",
    "valid = valid[features['cols'].values]"
   ]
  },
  {
   "cell_type": "code",
   "execution_count": 326,
   "metadata": {
    "ExecuteTime": {
     "end_time": "2019-05-14T16:04:18.546320Z",
     "start_time": "2019-05-14T16:04:12.104832Z"
    }
   },
   "outputs": [
    {
     "data": {
      "text/plain": [
       "0.6690881284649207"
      ]
     },
     "execution_count": 326,
     "metadata": {},
     "output_type": "execute_result"
    }
   ],
   "source": [
    "gb_clf.fit(train_1,y_1)\n",
    "gb_clf.score(train_1,y_1)"
   ]
  },
  {
   "cell_type": "code",
   "execution_count": 327,
   "metadata": {
    "ExecuteTime": {
     "end_time": "2019-05-14T16:04:21.001676Z",
     "start_time": "2019-05-14T16:04:20.973481Z"
    }
   },
   "outputs": [],
   "source": [
    "training = lgb.Dataset(train_1,y_1)\n",
    "validation = lgb.Dataset(valid,y_valid)"
   ]
  },
  {
   "cell_type": "code",
   "execution_count": 328,
   "metadata": {
    "ExecuteTime": {
     "end_time": "2019-05-14T16:04:25.750564Z",
     "start_time": "2019-05-14T16:04:25.591505Z"
    }
   },
   "outputs": [
    {
     "data": {
      "text/plain": [
       "0.4741267787839586"
      ]
     },
     "execution_count": 328,
     "metadata": {},
     "output_type": "execute_result"
    }
   ],
   "source": [
    "pred_valid = gb_clf.predict(valid)\n",
    "gb_clf.score(valid,y_valid)"
   ]
  },
  {
   "cell_type": "code",
   "execution_count": 329,
   "metadata": {
    "ExecuteTime": {
     "end_time": "2019-05-14T16:04:27.752690Z",
     "start_time": "2019-05-14T16:04:27.742615Z"
    }
   },
   "outputs": [
    {
     "data": {
      "text/plain": [
       "-26.460789"
      ]
     },
     "execution_count": 329,
     "metadata": {},
     "output_type": "execute_result"
    }
   ],
   "source": [
    "(pred_valid * valid_stock_returns).sum()"
   ]
  },
  {
   "cell_type": "code",
   "execution_count": 330,
   "metadata": {
    "ExecuteTime": {
     "end_time": "2019-05-14T16:04:30.981508Z",
     "start_time": "2019-05-14T16:04:30.953295Z"
    }
   },
   "outputs": [],
   "source": [
    "def profit_importance(m,df,rets):\n",
    "#     np.random.seed(123)\n",
    "    profit = []\n",
    "    for col in df.columns:\n",
    "        prof = []\n",
    "        for _ in range(10):\n",
    "            X = df.copy()\n",
    "            X[col] = np.random.permutation(X[col].values)\n",
    "            prediction = m.predict(X)\n",
    "            prof.append((prediction * rets).sum())\n",
    "        profit.append(np.mean(prof))\n",
    "    return profit"
   ]
  },
  {
   "cell_type": "code",
   "execution_count": 331,
   "metadata": {
    "ExecuteTime": {
     "end_time": "2019-05-14T16:04:35.008818Z",
     "start_time": "2019-05-14T16:04:34.990712Z"
    }
   },
   "outputs": [],
   "source": [
    "def gbboost_profit_importance(m, df,rets):\n",
    "    return pd.DataFrame({'cols':df.columns, 'pi_imp':profit_importance(m,df,rets)}\n",
    "                       ).sort_values('pi_imp', ascending=True)"
   ]
  },
  {
   "cell_type": "code",
   "execution_count": 332,
   "metadata": {
    "ExecuteTime": {
     "end_time": "2019-05-14T16:05:10.742565Z",
     "start_time": "2019-05-14T16:04:42.314487Z"
    }
   },
   "outputs": [
    {
     "data": {
      "text/html": [
       "<div>\n",
       "<style scoped>\n",
       "    .dataframe tbody tr th:only-of-type {\n",
       "        vertical-align: middle;\n",
       "    }\n",
       "\n",
       "    .dataframe tbody tr th {\n",
       "        vertical-align: top;\n",
       "    }\n",
       "\n",
       "    .dataframe thead th {\n",
       "        text-align: right;\n",
       "    }\n",
       "</style>\n",
       "<table border=\"1\" class=\"dataframe\">\n",
       "  <thead>\n",
       "    <tr style=\"text-align: right;\">\n",
       "      <th></th>\n",
       "      <th>cols</th>\n",
       "      <th>pi_imp</th>\n",
       "    </tr>\n",
       "  </thead>\n",
       "  <tbody>\n",
       "    <tr>\n",
       "      <th>23</th>\n",
       "      <td>cash_debtq</td>\n",
       "      <td>-34.866079</td>\n",
       "    </tr>\n",
       "    <tr>\n",
       "      <th>28</th>\n",
       "      <td>ptpmq</td>\n",
       "      <td>-34.012273</td>\n",
       "    </tr>\n",
       "    <tr>\n",
       "      <th>39</th>\n",
       "      <td>txtq</td>\n",
       "      <td>-33.008892</td>\n",
       "    </tr>\n",
       "    <tr>\n",
       "      <th>42</th>\n",
       "      <td>pcfq</td>\n",
       "      <td>-31.599028</td>\n",
       "    </tr>\n",
       "    <tr>\n",
       "      <th>16</th>\n",
       "      <td>oancfy_q</td>\n",
       "      <td>-31.349607</td>\n",
       "    </tr>\n",
       "    <tr>\n",
       "      <th>30</th>\n",
       "      <td>oepsxy</td>\n",
       "      <td>-31.323785</td>\n",
       "    </tr>\n",
       "    <tr>\n",
       "      <th>24</th>\n",
       "      <td>cash_conversionq</td>\n",
       "      <td>-31.177966</td>\n",
       "    </tr>\n",
       "    <tr>\n",
       "      <th>7</th>\n",
       "      <td>pay_turnq</td>\n",
       "      <td>-30.917875</td>\n",
       "    </tr>\n",
       "    <tr>\n",
       "      <th>1</th>\n",
       "      <td>cf_yield</td>\n",
       "      <td>-30.911214</td>\n",
       "    </tr>\n",
       "    <tr>\n",
       "      <th>21</th>\n",
       "      <td>dpcy</td>\n",
       "      <td>-30.364190</td>\n",
       "    </tr>\n",
       "    <tr>\n",
       "      <th>35</th>\n",
       "      <td>gpmq</td>\n",
       "      <td>-30.004755</td>\n",
       "    </tr>\n",
       "    <tr>\n",
       "      <th>11</th>\n",
       "      <td>profit_lctq</td>\n",
       "      <td>-29.739652</td>\n",
       "    </tr>\n",
       "    <tr>\n",
       "      <th>3</th>\n",
       "      <td>chechy</td>\n",
       "      <td>-29.709957</td>\n",
       "    </tr>\n",
       "    <tr>\n",
       "      <th>19</th>\n",
       "      <td>capeiq</td>\n",
       "      <td>-29.699649</td>\n",
       "    </tr>\n",
       "    <tr>\n",
       "      <th>8</th>\n",
       "      <td>rect_turnq</td>\n",
       "      <td>-28.996722</td>\n",
       "    </tr>\n",
       "    <tr>\n",
       "      <th>13</th>\n",
       "      <td>txpdy</td>\n",
       "      <td>-28.622997</td>\n",
       "    </tr>\n",
       "    <tr>\n",
       "      <th>25</th>\n",
       "      <td>xinty</td>\n",
       "      <td>-27.966500</td>\n",
       "    </tr>\n",
       "    <tr>\n",
       "      <th>5</th>\n",
       "      <td>efftaxq</td>\n",
       "      <td>-27.455047</td>\n",
       "    </tr>\n",
       "    <tr>\n",
       "      <th>17</th>\n",
       "      <td>cheq</td>\n",
       "      <td>-27.410687</td>\n",
       "    </tr>\n",
       "    <tr>\n",
       "      <th>31</th>\n",
       "      <td>oancfy</td>\n",
       "      <td>-27.117326</td>\n",
       "    </tr>\n",
       "    <tr>\n",
       "      <th>33</th>\n",
       "      <td>fcf_yield</td>\n",
       "      <td>-26.986159</td>\n",
       "    </tr>\n",
       "    <tr>\n",
       "      <th>9</th>\n",
       "      <td>cogsy</td>\n",
       "      <td>-26.497565</td>\n",
       "    </tr>\n",
       "    <tr>\n",
       "      <th>38</th>\n",
       "      <td>buy_back_yield</td>\n",
       "      <td>-26.467614</td>\n",
       "    </tr>\n",
       "    <tr>\n",
       "      <th>32</th>\n",
       "      <td>xsgay</td>\n",
       "      <td>-26.318452</td>\n",
       "    </tr>\n",
       "    <tr>\n",
       "      <th>37</th>\n",
       "      <td>cfo-per-share</td>\n",
       "      <td>-25.870173</td>\n",
       "    </tr>\n",
       "    <tr>\n",
       "      <th>0</th>\n",
       "      <td>evmq</td>\n",
       "      <td>-25.675807</td>\n",
       "    </tr>\n",
       "    <tr>\n",
       "      <th>15</th>\n",
       "      <td>fcf_ocfq</td>\n",
       "      <td>-25.178286</td>\n",
       "    </tr>\n",
       "    <tr>\n",
       "      <th>20</th>\n",
       "      <td>int_totdebtq</td>\n",
       "      <td>-24.949697</td>\n",
       "    </tr>\n",
       "    <tr>\n",
       "      <th>12</th>\n",
       "      <td>market_cap</td>\n",
       "      <td>-24.569158</td>\n",
       "    </tr>\n",
       "    <tr>\n",
       "      <th>41</th>\n",
       "      <td>de_ratioq</td>\n",
       "      <td>-24.393724</td>\n",
       "    </tr>\n",
       "    <tr>\n",
       "      <th>6</th>\n",
       "      <td>teqq</td>\n",
       "      <td>-24.071039</td>\n",
       "    </tr>\n",
       "    <tr>\n",
       "      <th>10</th>\n",
       "      <td>cfmq</td>\n",
       "      <td>-23.066578</td>\n",
       "    </tr>\n",
       "    <tr>\n",
       "      <th>22</th>\n",
       "      <td>dltisy</td>\n",
       "      <td>-23.043036</td>\n",
       "    </tr>\n",
       "    <tr>\n",
       "      <th>14</th>\n",
       "      <td>dltry</td>\n",
       "      <td>-22.905644</td>\n",
       "    </tr>\n",
       "    <tr>\n",
       "      <th>26</th>\n",
       "      <td>sale_equityq</td>\n",
       "      <td>-22.599555</td>\n",
       "    </tr>\n",
       "    <tr>\n",
       "      <th>29</th>\n",
       "      <td>fcf_csfhdq</td>\n",
       "      <td>-22.327715</td>\n",
       "    </tr>\n",
       "    <tr>\n",
       "      <th>2</th>\n",
       "      <td>nopiq</td>\n",
       "      <td>-22.139190</td>\n",
       "    </tr>\n",
       "    <tr>\n",
       "      <th>27</th>\n",
       "      <td>ibcomy</td>\n",
       "      <td>-21.327712</td>\n",
       "    </tr>\n",
       "    <tr>\n",
       "      <th>36</th>\n",
       "      <td>capxq</td>\n",
       "      <td>-20.280099</td>\n",
       "    </tr>\n",
       "    <tr>\n",
       "      <th>40</th>\n",
       "      <td>accrualq</td>\n",
       "      <td>-19.761016</td>\n",
       "    </tr>\n",
       "    <tr>\n",
       "      <th>18</th>\n",
       "      <td>cstkq</td>\n",
       "      <td>-19.484917</td>\n",
       "    </tr>\n",
       "    <tr>\n",
       "      <th>34</th>\n",
       "      <td>apq</td>\n",
       "      <td>-17.256751</td>\n",
       "    </tr>\n",
       "    <tr>\n",
       "      <th>4</th>\n",
       "      <td>prccq</td>\n",
       "      <td>-13.433248</td>\n",
       "    </tr>\n",
       "  </tbody>\n",
       "</table>\n",
       "</div>"
      ],
      "text/plain": [
       "                cols     pi_imp\n",
       "23        cash_debtq -34.866079\n",
       "28             ptpmq -34.012273\n",
       "39              txtq -33.008892\n",
       "42              pcfq -31.599028\n",
       "16          oancfy_q -31.349607\n",
       "30            oepsxy -31.323785\n",
       "24  cash_conversionq -31.177966\n",
       "7          pay_turnq -30.917875\n",
       "1           cf_yield -30.911214\n",
       "21              dpcy -30.364190\n",
       "35              gpmq -30.004755\n",
       "11       profit_lctq -29.739652\n",
       "3             chechy -29.709957\n",
       "19            capeiq -29.699649\n",
       "8         rect_turnq -28.996722\n",
       "13             txpdy -28.622997\n",
       "25             xinty -27.966500\n",
       "5            efftaxq -27.455047\n",
       "17              cheq -27.410687\n",
       "31            oancfy -27.117326\n",
       "33         fcf_yield -26.986159\n",
       "9              cogsy -26.497565\n",
       "38    buy_back_yield -26.467614\n",
       "32             xsgay -26.318452\n",
       "37     cfo-per-share -25.870173\n",
       "0               evmq -25.675807\n",
       "15          fcf_ocfq -25.178286\n",
       "20      int_totdebtq -24.949697\n",
       "12        market_cap -24.569158\n",
       "41         de_ratioq -24.393724\n",
       "6               teqq -24.071039\n",
       "10              cfmq -23.066578\n",
       "22            dltisy -23.043036\n",
       "14             dltry -22.905644\n",
       "26      sale_equityq -22.599555\n",
       "29        fcf_csfhdq -22.327715\n",
       "2              nopiq -22.139190\n",
       "27            ibcomy -21.327712\n",
       "36             capxq -20.280099\n",
       "40          accrualq -19.761016\n",
       "18             cstkq -19.484917\n",
       "34               apq -17.256751\n",
       "4              prccq -13.433248"
      ]
     },
     "execution_count": 332,
     "metadata": {},
     "output_type": "execute_result"
    }
   ],
   "source": [
    "pi = gbboost_profit_importance(gb_clf,valid,valid_stock_returns)\n",
    "pi"
   ]
  },
  {
   "cell_type": "code",
   "execution_count": 333,
   "metadata": {
    "ExecuteTime": {
     "end_time": "2019-05-14T16:20:55.689038Z",
     "start_time": "2019-05-14T16:08:08.090801Z"
    },
    "scrolled": true
   },
   "outputs": [
    {
     "name": "stdout",
     "output_type": "stream",
     "text": [
      "-26.460789\n",
      "-33.04586600000002\n",
      "-24.043749999999996\n",
      "-31.09483999999998\n",
      "-23.698451999999968\n",
      "-21.458838000000032\n",
      "-24.134583999999982\n",
      "-19.593375000000016\n",
      "-30.939516000000012\n",
      "-25.839162000000012\n",
      "-34.39669400000001\n",
      "-48.178157999999996\n",
      "-51.80141199999997\n",
      "-58.39125600000001\n",
      "-53.551412\n",
      "-63.10819000000002\n",
      "-53.01832399999998\n",
      "-55.563606\n",
      "-47.92250199999999\n",
      "-49.61950599999999\n",
      "-44.02556800000002\n",
      "-42.13476800000001\n",
      "-36.37811600000003\n",
      "-34.406244000000015\n",
      "-38.889746\n",
      "-35.057734\n",
      "-36.952337999999976\n",
      "-43.997949999999975\n",
      "-43.058554\n",
      "-35.35328799999999\n",
      "-45.47336000000001\n",
      "-50.997333999999995\n",
      "-63.44145399999999\n",
      "-61.453964000000035\n",
      "-62.17614799999997\n",
      "-59.96831999999999\n",
      "-65.18777199999997\n",
      "-67.12211399999997\n",
      "-72.45844799999996\n",
      "-69.41392399999995\n",
      "-117.15319399999996\n",
      "-124.99862799999995\n"
     ]
    }
   ],
   "source": [
    "profits = []\n",
    "feat=[]\n",
    "\n",
    "train = train_1.copy()\n",
    "validation = valid.copy()\n",
    "\n",
    "while len(train.columns)>1:\n",
    "\n",
    "    pred_valid = gb_clf.predict(validation)\n",
    "       \n",
    "    print((pred_valid * df_valid['next_period_return']).sum())\n",
    "    profits.append((pred_valid * df_valid['next_period_return']).sum())\n",
    "    feat.append(train.columns)\n",
    "    \n",
    "    col_to_drop = pi.iloc[-1]['cols']\n",
    "    train.drop(col_to_drop,axis=1,inplace=True)\n",
    "    validation.drop(col_to_drop,axis=1,inplace=True)\n",
    "\n",
    "    gb_clf.fit(train,y_1)\n",
    "    pi = gbboost_profit_importance(gb_clf,validation,df_valid['next_period_return'])"
   ]
  },
  {
   "cell_type": "code",
   "execution_count": 334,
   "metadata": {
    "ExecuteTime": {
     "end_time": "2019-05-14T16:27:43.273918Z",
     "start_time": "2019-05-14T16:27:42.998138Z"
    }
   },
   "outputs": [
    {
     "data": {
      "image/png": "[encoded data removed]",
      "text/plain": [
       "<Figure size 432x288 with 1 Axes>"
      ]
     },
     "metadata": {
      "needs_background": "light"
     },
     "output_type": "display_data"
    }
   ],
   "source": [
    "plt.plot(profits);"
   ]
  },
  {
   "cell_type": "code",
   "execution_count": 336,
   "metadata": {
    "ExecuteTime": {
     "end_time": "2019-05-14T16:27:59.596890Z",
     "start_time": "2019-05-14T16:27:59.581681Z"
    }
   },
   "outputs": [
    {
     "data": {
      "text/plain": [
       "-19.593375000000016"
      ]
     },
     "execution_count": 336,
     "metadata": {},
     "output_type": "execute_result"
    }
   ],
   "source": [
    "n = np.argmax(profits)\n",
    "profits[n]"
   ]
  },
  {
   "cell_type": "code",
   "execution_count": 337,
   "metadata": {
    "ExecuteTime": {
     "end_time": "2019-05-14T16:28:01.453876Z",
     "start_time": "2019-05-14T16:28:01.432864Z"
    }
   },
   "outputs": [
    {
     "data": {
      "text/plain": [
       "Index(['evmq', 'cf_yield', 'nopiq', 'chechy', 'efftaxq', 'teqq', 'pay_turnq',\n",
       "       'rect_turnq', 'cogsy', 'profit_lctq', 'market_cap', 'txpdy', 'dltry',\n",
       "       'fcf_ocfq', 'oancfy_q', 'cheq', 'capeiq', 'int_totdebtq', 'dpcy',\n",
       "       'cash_debtq', 'cash_conversionq', 'xinty', 'ibcomy', 'ptpmq',\n",
       "       'fcf_csfhdq', 'oepsxy', 'oancfy', 'xsgay', 'fcf_yield', 'gpmq',\n",
       "       'cfo-per-share', 'buy_back_yield', 'txtq', 'accrualq', 'de_ratioq',\n",
       "       'pcfq'],\n",
       "      dtype='object')"
      ]
     },
     "execution_count": 337,
     "metadata": {},
     "output_type": "execute_result"
    }
   ],
   "source": [
    "optim_feats = feat[n]\n",
    "optim_feats"
   ]
  },
  {
   "cell_type": "code",
   "execution_count": 338,
   "metadata": {
    "ExecuteTime": {
     "end_time": "2019-05-14T16:28:09.465620Z",
     "start_time": "2019-05-14T16:28:04.277058Z"
    }
   },
   "outputs": [
    {
     "name": "stdout",
     "output_type": "stream",
     "text": [
      "0.6660931625565539\n",
      "0.4883570504527814\n"
     ]
    },
    {
     "data": {
      "text/plain": [
       "-19.593375000000016"
      ]
     },
     "execution_count": 338,
     "metadata": {},
     "output_type": "execute_result"
    }
   ],
   "source": [
    "train_1_optim = train_1[optim_feats]\n",
    "valid_optim = valid[optim_feats]\n",
    "\n",
    "\n",
    "gb_clf.fit(train_1_optim,y_1)\n",
    "print(gb_clf.score(train_1_optim,y_1))\n",
    "pred_valid_tree = gb_clf.predict(valid_optim)\n",
    "print(gb_clf.score(valid_optim,y_valid))\n",
    "(pred_valid_tree * valid_stock_returns).sum()"
   ]
  },
  {
   "cell_type": "code",
   "execution_count": 339,
   "metadata": {
    "ExecuteTime": {
     "end_time": "2019-05-14T16:28:18.736657Z",
     "start_time": "2019-05-14T16:28:13.641979Z"
    }
   },
   "outputs": [
    {
     "data": {
      "text/plain": [
       "10.240057999999973"
      ]
     },
     "execution_count": 339,
     "metadata": {},
     "output_type": "execute_result"
    }
   ],
   "source": [
    "train_2_tree = train_2[optim_feats]\n",
    "test_tree = test[optim_feats]\n",
    "gb_clf.fit(train_2_tree,y_2)\n",
    "pred_test_tree = gb_clf.predict(test_tree)\n",
    "(pred_test_tree * test_stock_returns).sum()"
   ]
  },
  {
   "cell_type": "code",
   "execution_count": 340,
   "metadata": {
    "ExecuteTime": {
     "end_time": "2019-05-14T16:28:22.613049Z",
     "start_time": "2019-05-14T16:28:22.594950Z"
    }
   },
   "outputs": [],
   "source": [
    "from scipy.cluster import hierarchy as hc\n",
    "import scipy.stats"
   ]
  },
  {
   "cell_type": "code",
   "execution_count": 341,
   "metadata": {
    "ExecuteTime": {
     "end_time": "2019-05-14T16:28:25.927230Z",
     "start_time": "2019-05-14T16:28:25.204849Z"
    }
   },
   "outputs": [
    {
     "data": {
      "image/png": "[encoded data removed]",
      "text/plain": [
       "<Figure size 1152x720 with 1 Axes>"
      ]
     },
     "metadata": {
      "needs_background": "light"
     },
     "output_type": "display_data"
    }
   ],
   "source": [
    "corr = np.round(scipy.stats.spearmanr(train_1_optim).correlation,4)\n",
    "corr_condensed = hc.distance.squareform(1-corr)\n",
    "z = hc.linkage(corr_condensed, method='average')\n",
    "fig = plt.figure(figsize=(16,10))\n",
    "dendrogram = hc.dendrogram(z, labels=train_1_optim.columns, orientation='left', leaf_font_size=16)\n",
    "plt.show()"
   ]
  },
  {
   "cell_type": "code",
   "execution_count": 65,
   "metadata": {
    "ExecuteTime": {
     "end_time": "2019-05-14T12:06:22.046240Z",
     "start_time": "2019-05-14T12:06:22.015782Z"
    }
   },
   "outputs": [],
   "source": [
    "start_dates = [pd.to_datetime('2000-01-01') + pd.DateOffset(months = 3 * i) for i in range(62)]\n",
    "end_dates = [d + pd.DateOffset(months = 36) for d in start_dates]"
   ]
  },
  {
   "cell_type": "code",
   "execution_count": 66,
   "metadata": {
    "ExecuteTime": {
     "end_time": "2019-05-14T12:06:22.641166Z",
     "start_time": "2019-05-14T12:06:22.602271Z"
    }
   },
   "outputs": [],
   "source": [
    "training_frames = [data.loc[d:d+pd.DateOffset(months = 36)] for d in start_dates]\n",
    "test_frames = [data.loc[d + pd.DateOffset(months=3):d+pd.DateOffset(months = 6)] for d in end_dates]"
   ]
  },
  {
   "cell_type": "code",
   "execution_count": 67,
   "metadata": {
    "ExecuteTime": {
     "end_time": "2019-05-14T12:06:25.814500Z",
     "start_time": "2019-05-14T12:06:23.094009Z"
    }
   },
   "outputs": [],
   "source": [
    "training_data = [d.reset_index().drop\n",
    "                                 (['ticker','date',\n",
    "                                   'next_period_return',\n",
    "                                   'spy_next_period_return',\n",
    "                                   'rel_performance','pred_rel_return',\n",
    "                                  'return', 'cum_ret', 'spy_cum_ret'],axis=1) for d in training_frames]"
   ]
  },
  {
   "cell_type": "code",
   "execution_count": 68,
   "metadata": {
    "ExecuteTime": {
     "end_time": "2019-05-14T12:06:26.175257Z",
     "start_time": "2019-05-14T12:06:25.816543Z"
    }
   },
   "outputs": [],
   "source": [
    "test_data = [d.reset_index().drop(['ticker','date',\n",
    "                                   'next_period_return',\n",
    "                                   'spy_next_period_return',\n",
    "                                   'rel_performance','pred_rel_return',\n",
    "                                  'return', 'cum_ret', 'spy_cum_ret'],axis=1) for d in test_frames]"
   ]
  },
  {
   "cell_type": "code",
   "execution_count": 69,
   "metadata": {
    "ExecuteTime": {
     "end_time": "2019-05-14T12:06:26.614234Z",
     "start_time": "2019-05-14T12:06:26.598605Z"
    }
   },
   "outputs": [],
   "source": [
    "training_labels = [d['rel_performance'].values for d in training_frames]"
   ]
  },
  {
   "cell_type": "code",
   "execution_count": 342,
   "metadata": {
    "ExecuteTime": {
     "end_time": "2019-05-14T16:28:35.237340Z",
     "start_time": "2019-05-14T16:28:34.423844Z"
    }
   },
   "outputs": [],
   "source": [
    "opt_training_data = [t[optim_feats] for t in training_data]\n",
    "opt_test_data = [v[optim_feats] for v in test_data]"
   ]
  },
  {
   "cell_type": "code",
   "execution_count": 343,
   "metadata": {
    "ExecuteTime": {
     "end_time": "2019-05-14T16:34:17.417482Z",
     "start_time": "2019-05-14T16:28:36.239962Z"
    }
   },
   "outputs": [],
   "source": [
    "P_L = []\n",
    "x = [1]\n",
    "ret = []\n",
    "\n",
    "for i in range(len(training_labels)-1):\n",
    "        gb_clf.fit(opt_training_data[i],training_labels[i])\n",
    "        pred_i = gb_clf.predict(opt_test_data[i])\n",
    "        profit_i = (pred_i * test_frames[i]['next_period_return']).sum()\n",
    "        P_L.append(profit_i)\n",
    "        num_positions = len(pred_i)\n",
    "        ret.append((1.0/num_positions) * profit_i)\n",
    "        x.append(x[i] + (x[i]/num_positions) * profit_i)"
   ]
  },
  {
   "cell_type": "code",
   "execution_count": 268,
   "metadata": {
    "ExecuteTime": {
     "end_time": "2019-05-14T15:57:41.567471Z",
     "start_time": "2019-05-14T15:57:41.246838Z"
    }
   },
   "outputs": [
    {
     "data": {
      "image/png": "[encoded data removed]",
      "text/plain": [
       "<Figure size 432x288 with 1 Axes>"
      ]
     },
     "metadata": {
      "needs_background": "light"
     },
     "output_type": "display_data"
    }
   ],
   "source": [
    "plt.plot(x);"
   ]
  },
  {
   "cell_type": "code",
   "execution_count": 269,
   "metadata": {
    "ExecuteTime": {
     "end_time": "2019-05-14T15:57:46.783703Z",
     "start_time": "2019-05-14T15:57:46.725281Z"
    }
   },
   "outputs": [],
   "source": [
    "SPY = pd.read_pickle(r'C:\\Users\\niels\\data\\SPY_cum_ret.pkl')\n",
    "SPY = SPY.loc['2003-04-01':'2018-09-30']\n",
    "SPY = SPY.resample('Q').ffill()\n",
    "SPY['spy_cum_ret'] = (SPY['spy_cum_ret'] - SPY['spy_cum_ret'][0] + 1)\n",
    "SPY['strategy'] = x"
   ]
  },
  {
   "cell_type": "code",
   "execution_count": 270,
   "metadata": {
    "ExecuteTime": {
     "end_time": "2019-05-14T15:57:50.096298Z",
     "start_time": "2019-05-14T15:57:49.594946Z"
    }
   },
   "outputs": [
    {
     "data": {
      "image/png": "[encoded data removed]",
      "text/plain": [
       "<Figure size 432x288 with 1 Axes>"
      ]
     },
     "metadata": {
      "needs_background": "light"
     },
     "output_type": "display_data"
    }
   ],
   "source": [
    "SPY.plot();"
   ]
  },
  {
   "cell_type": "code",
   "execution_count": 271,
   "metadata": {
    "ExecuteTime": {
     "end_time": "2019-05-14T15:57:53.914723Z",
     "start_time": "2019-05-14T15:57:53.481441Z"
    }
   },
   "outputs": [
    {
     "data": {
      "image/png": "[encoded data removed]",
      "text/plain": [
       "<Figure size 432x288 with 1 Axes>"
      ]
     },
     "metadata": {
      "needs_background": "light"
     },
     "output_type": "display_data"
    }
   ],
   "source": [
    "SPY = SPY.resample('Y').ffill()\n",
    "SPY.plot();"
   ]
  },
  {
   "cell_type": "code",
   "execution_count": 272,
   "metadata": {
    "ExecuteTime": {
     "end_time": "2019-05-14T15:57:58.107083Z",
     "start_time": "2019-05-14T15:57:58.088972Z"
    }
   },
   "outputs": [
    {
     "name": "stdout",
     "output_type": "stream",
     "text": [
      "Strategy Sharpe Ratio:  1.0561989649152683\n"
     ]
    }
   ],
   "source": [
    "strategy_mean_ret = (SPY['strategy'] - 1).diff().mean()\n",
    "strategy_std = (SPY['strategy'] - 1).diff().std()\n",
    "strategy_sr = strategy_mean_ret/strategy_std\n",
    "print('Strategy Sharpe Ratio: ',strategy_sr)"
   ]
  },
  {
   "cell_type": "code",
   "execution_count": 198,
   "metadata": {
    "ExecuteTime": {
     "end_time": "2019-05-14T14:45:03.094852Z",
     "start_time": "2019-05-14T14:45:03.071661Z"
    }
   },
   "outputs": [
    {
     "data": {
      "text/plain": [
       "3.7815840000832424"
      ]
     },
     "execution_count": 198,
     "metadata": {},
     "output_type": "execute_result"
    }
   ],
   "source": [
    "x[-1]"
   ]
  },
  {
   "cell_type": "code",
   "execution_count": 199,
   "metadata": {
    "ExecuteTime": {
     "end_time": "2019-05-14T14:45:05.522172Z",
     "start_time": "2019-05-14T14:45:05.506468Z"
    }
   },
   "outputs": [],
   "source": [
    "strategy_ret = (SPY['strategy'] - 1).diff().values[1:]\n",
    "spy_ret = (SPY['spy_cum_ret'] - 1).diff().values[1:]"
   ]
  },
  {
   "cell_type": "code",
   "execution_count": 200,
   "metadata": {
    "ExecuteTime": {
     "end_time": "2019-05-14T14:45:08.293033Z",
     "start_time": "2019-05-14T14:45:08.272794Z"
    }
   },
   "outputs": [
    {
     "data": {
      "text/plain": [
       "0.7410540621849192"
      ]
     },
     "execution_count": 200,
     "metadata": {},
     "output_type": "execute_result"
    }
   ],
   "source": [
    "beta = (np.cov(spy_ret,strategy_ret)/np.var(spy_ret))[1,0]\n",
    "beta"
   ]
  },
  {
   "cell_type": "code",
   "execution_count": 201,
   "metadata": {
    "ExecuteTime": {
     "end_time": "2019-05-14T14:45:09.650806Z",
     "start_time": "2019-05-14T14:45:09.635155Z"
    }
   },
   "outputs": [],
   "source": [
    "residual_ret = strategy_ret - beta * spy_ret"
   ]
  },
  {
   "cell_type": "code",
   "execution_count": 202,
   "metadata": {
    "ExecuteTime": {
     "end_time": "2019-05-14T14:45:10.350941Z",
     "start_time": "2019-05-14T14:45:10.332277Z"
    }
   },
   "outputs": [
    {
     "data": {
      "text/plain": [
       "1.2145742112232227"
      ]
     },
     "execution_count": 202,
     "metadata": {},
     "output_type": "execute_result"
    }
   ],
   "source": [
    "IR = np.mean(residual_ret)/np.std(residual_ret)\n",
    "IR"
   ]
  },
  {
   "cell_type": "code",
   "execution_count": 203,
   "metadata": {
    "ExecuteTime": {
     "end_time": "2019-05-14T14:45:14.370860Z",
     "start_time": "2019-05-14T14:45:14.351693Z"
    }
   },
   "outputs": [
    {
     "data": {
      "text/plain": [
       "0.09834384213391555"
      ]
     },
     "execution_count": 203,
     "metadata": {},
     "output_type": "execute_result"
    }
   ],
   "source": [
    "alpha = np.mean(residual_ret)\n",
    "alpha"
   ]
  },
  {
   "cell_type": "code",
   "execution_count": null,
   "metadata": {},
   "outputs": [],
   "source": []
  }
 ],
 "metadata": {
  "kernelspec": {
   "display_name": "Python 3",
   "language": "python",
   "name": "python3"
  },
  "language_info": {
   "codemirror_mode": {
    "name": "ipython",
    "version": 3
   },
   "file_extension": ".py",
   "mimetype": "text/x-python",
   "name": "python",
   "nbconvert_exporter": "python",
   "pygments_lexer": "ipython3",
   "version": "3.7.1"
  },
  "latex_envs": {
   "LaTeX_envs_menu_present": true,
   "autoclose": false,
   "autocomplete": true,
   "bibliofile": "biblio.bib",
   "cite_by": "apalike",
   "current_citInitial": 1,
   "eqLabelWithNumbers": true,
   "eqNumInitial": 1,
   "hotkeys": {
    "equation": "Ctrl-E",
    "itemize": "Ctrl-I"
   },
   "labels_anchors": false,
   "latex_user_defs": false,
   "report_style_numbering": false,
   "user_envs_cfg": false
  }
 },
 "nbformat": 4,
 "nbformat_minor": 2
}
